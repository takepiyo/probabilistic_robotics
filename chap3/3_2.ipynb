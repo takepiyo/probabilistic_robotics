{
 "cells": [
  {
   "cell_type": "code",
   "execution_count": 1,
   "id": "mighty-efficiency",
   "metadata": {},
   "outputs": [],
   "source": [
    "import matplotlib                   #追加   ### fig:add_animation_module (1〜3行目) \n",
    "matplotlib.use('nbagg')             #追加 \n",
    "import matplotlib.animation as anm  #追加\n",
    "import matplotlib.pyplot as plt\n",
    "import math\n",
    "import matplotlib.patches as patches\n",
    "import numpy as np\n",
    "\n",
    "import matplotlib.pyplot"
   ]
  },
  {
   "cell_type": "code",
   "execution_count": 2,
   "id": "possible-basics",
   "metadata": {},
   "outputs": [],
   "source": [
    "class World:        ### fig:world_init_add_timespan (1-5行目)\n",
    "    def __init__(self, time_span, time_interval, debug=False):\n",
    "        self.objects = []  \n",
    "        self.debug = debug\n",
    "        self.time_span = time_span                  # 追加\n",
    "        self.time_interval = time_interval          # 追加\n",
    "        \n",
    "    def append(self,obj):             # オブジェクトを登録するための関数\n",
    "        self.objects.append(obj)\n",
    "    \n",
    "    def draw(self):            ### fig:world_draw_with_timesapn (1, 10, 21-26, 28-34行目)\n",
    "        fig = plt.figure(figsize=(4,4))                # 8x8 inchの図を準備\n",
    "        ax = fig.add_subplot(111)                      # サブプロットを準備\n",
    "        ax.set_aspect('equal')                         # 縦横比を座標の値と一致させる\n",
    "        ax.set_xlim(-5,5)                              # X軸を-5m x 5mの範囲で描画\n",
    "        ax.set_ylim(-5,5)                              # Y軸も同様に\n",
    "        ax.set_xlabel(\"X\",fontsize=10)                 # X軸にラベルを表示\n",
    "        ax.set_ylabel(\"Y\",fontsize=10)                 # 同じくY軸に\n",
    "        \n",
    "        elems = []\n",
    "        \n",
    "        if self.debug:        \n",
    "            for i in range(int(self.time_span/self.time_interval)): self.one_step(i, elems, ax) \n",
    "        else:\n",
    "            self.ani = anm.FuncAnimation(fig, self.one_step, fargs=(elems, ax),\n",
    "                                     frames=int(self.time_span/self.time_interval)+1, interval=int(self.time_interval*1000), repeat=False)\n",
    "            plt.show()\n",
    "        \n",
    "    def one_step(self, i, elems, ax):\n",
    "        while elems: elems.pop().remove()\n",
    "        time_str = \"t = %.2f[s]\" % (self.time_interval*i)    # 時刻として表示する文字列\n",
    "        elems.append(ax.text(-4.4, 4.5, time_str, fontsize=10))\n",
    "        for obj in self.objects:\n",
    "            obj.draw(ax, elems)\n",
    "            if hasattr(obj, \"one_step\"): obj.one_step(self.time_interval)   "
   ]
  },
  {
   "cell_type": "code",
   "execution_count": 3,
   "id": "supreme-customs",
   "metadata": {},
   "outputs": [],
   "source": [
    "class IdealRobot:            ### fig:robot_camera（1,2,8,28-29行目,49-53行目）\n",
    "    def __init__(self, pose, agent=None, sensor=None, color=\"black\"):    # 引数を追加\n",
    "        self.pose = pose  \n",
    "        self.r = 0.2  \n",
    "        self.color = color \n",
    "        self.agent = agent\n",
    "        self.poses = [pose]\n",
    "        self.sensor = sensor    # 追加\n",
    "    \n",
    "    def draw(self, ax, elems):\n",
    "        x, y, theta = self.pose \n",
    "        xn = x + self.r * math.cos(theta) \n",
    "        yn = y + self.r * math.sin(theta)\n",
    "        elems += ax.plot([x,xn], [y,yn], color=self.color)\n",
    "        c = patches.Circle(xy=(x, y), radius=self.r, fill=False, color=self.color) \n",
    "        elems.append(ax.add_patch(c)) \n",
    "        self.poses.append(self.pose)\n",
    "        elems += ax.plot([e[0] for e in self.poses], [e[1] for e in self.poses], linewidth=0.5, color=\"black\")\n",
    "        if self.sensor and len(self.poses) > 1:                    #追加\n",
    "            self.sensor.draw(ax, elems, self.poses[-2])     #追加\n",
    "            \n",
    "    @classmethod \n",
    "    def state_transition(self, nu, omega, time, pose):\n",
    "        t0 = pose[2]\n",
    "        if math.fabs(omega) < 1e-10:\n",
    "            return pose + np.array( [nu*math.cos(t0), \n",
    "                                     nu*math.sin(t0),\n",
    "                                     omega ] ) * time\n",
    "        else:\n",
    "            return pose + np.array( [nu/omega*(math.sin(t0 + omega*time) - math.sin(t0)), \n",
    "                                     nu/omega*(-math.cos(t0 + omega*time) + math.cos(t0)),\n",
    "                                     omega*time ] )\n",
    "\n",
    "    def one_step(self, time_interval):\n",
    "        if not self.agent: return\n",
    "        obs = self.sensor.data(self.pose) if self.sensor else None #追加\n",
    "        nu, omega = self.agent.decision(obs) #引数追加\n",
    "        self.pose = self.state_transition(nu, omega, time_interval, self.pose)"
   ]
  },
  {
   "cell_type": "code",
   "execution_count": 4,
   "id": "coated-vocabulary",
   "metadata": {},
   "outputs": [],
   "source": [
    "class Agent:\n",
    "    def __init__(self, nu, omega):\n",
    "        self.nu = nu\n",
    "        self.omega = omega\n",
    "        \n",
    "    def decision(self, observation=None):\n",
    "        return self.nu, self.omega\n",
    "    "
   ]
  },
  {
   "cell_type": "code",
   "execution_count": 5,
   "id": "junior-maple",
   "metadata": {},
   "outputs": [],
   "source": [
    "class IdealRobot:\n",
    "    def __init__(self, pose, agent=None, sensor=None, color=\"black\"):\n",
    "        self.pose = pose        # 引数から姿勢の初期値を設定\n",
    "        self.r = 0.2            # これは描画のためなので固定値\n",
    "        self.color = color      # 引数から描画するときの色を設定\n",
    "        self.agent = agent\n",
    "        self.poses = [pose]\n",
    "        self.sensor = sensor\n",
    "    \n",
    "    def draw(self, ax, elems):\n",
    "        x, y, theta = self.pose                   # 姿勢の変数を分解して3つの変数へ\n",
    "        xn = x + self.r * math.cos(theta)         #  ロボットの鼻先のx座標 \n",
    "        yn = y + self.r * math.sin(theta)         #  ロボットの鼻先のy座標 \n",
    "        elems += ax.plot([x,xn], [y,yn], color=self.color) # ロボットの向きを示す線分の描画\n",
    "        c = patches.Circle(xy=(x, y), radius=self.r, fill=False, color=self.color) \n",
    "        elems.append(ax.add_patch(c))\n",
    "        self.poses.append(self.pose)\n",
    "        elems += ax.plot([e[0] for e in self.poses], [e[1] for e in self.poses], linewidth=0.5, color=\"black\")\n",
    "        if self.sensor and len(self.poses) > 1:\n",
    "            self.sensor.draw(ax, elems, self.pose[-2])\n",
    "        \n",
    "    def one_step(self, time_interval):\n",
    "        if not self.agent: return\n",
    "        obs = self.sensor.data(self.pose) if self.sensor else None\n",
    "        nu, omega = self.agent.decision()\n",
    "        self.pose = self.state_transition(nu, omega, time_interval, self.pose)\n",
    "        \n",
    "    @classmethod\n",
    "    def state_transition(cls, nu, omega, time, pose):\n",
    "        t0 = pose[2]\n",
    "        if math.fabs(omega) < 1e-10:\n",
    "            return pose + np.array([nu * math.cos(t0), nu * math.sin(t0), omega]) * time\n",
    "        else:\n",
    "            return pose + np.array([nu/omega*(math.sin(t0+omega*time) - math.sin(t0)), nu/omega*(-math.cos(t0+omega*time)+math.cos(t0)), omega*time])"
   ]
  },
  {
   "cell_type": "code",
   "execution_count": null,
   "id": "toxic-password",
   "metadata": {},
   "outputs": [],
   "source": []
  },
  {
   "cell_type": "code",
   "execution_count": 6,
   "id": "robust-identification",
   "metadata": {},
   "outputs": [
    {
     "data": {
      "text/plain": [
       "array([0.1, 0. , 0. ])"
      ]
     },
     "execution_count": 6,
     "metadata": {},
     "output_type": "execute_result"
    }
   ],
   "source": [
    "IdealRobot.state_transition(0.1, 0.0, 1.0, np.array([0,0,0]).T)"
   ]
  },
  {
   "cell_type": "code",
   "execution_count": 7,
   "id": "educational-gamma",
   "metadata": {},
   "outputs": [
    {
     "data": {
      "text/plain": [
       "array([0.5729578 , 0.5729578 , 1.57079633])"
      ]
     },
     "execution_count": 7,
     "metadata": {},
     "output_type": "execute_result"
    }
   ],
   "source": [
    "IdealRobot.state_transition(0.1, 10.0/180*math.pi, 9.0, np.array([0, 0, 0]).T)"
   ]
  },
  {
   "cell_type": "code",
   "execution_count": 8,
   "id": "cellular-shell",
   "metadata": {},
   "outputs": [],
   "source": [
    "class Landmark:\n",
    "    def __init__(self, x, y):\n",
    "        self.pos = np.array([x, y]).T\n",
    "        self.id = None\n",
    "        \n",
    "    def draw(self, ax, elems):\n",
    "        c = ax.scatter(self.pos[0], self.pos[1], s=100, marker=\"*\", label=\"landmarks\", color=\"orange\")\n",
    "        elems.append(c)\n",
    "        elems.append(ax.text(self.pos[0], self.pos[1], \"id:\" + str(self.id), fontsize=10))\n",
    "    "
   ]
  },
  {
   "cell_type": "code",
   "execution_count": 9,
   "id": "serial-summary",
   "metadata": {},
   "outputs": [],
   "source": [
    "class Map:\n",
    "    def __init__(self):       # 空のランドマークのリストを準備\n",
    "        self.landmarks = []\n",
    "        \n",
    "    def append_landmark(self, landmark):       # ランドマークを追加\n",
    "        landmark.id = len(self.landmarks)    # 追加するランドマークにIDを与える\n",
    "        self.landmarks.append(landmark)\n",
    "\n",
    "    def draw(self, ax, elems):                 # 描画（Landmarkのdrawを順に呼び出し）\n",
    "        for lm in self.landmarks: lm.draw(ax, elems)"
   ]
  },
  {
   "cell_type": "code",
   "execution_count": null,
   "id": "proved-latvia",
   "metadata": {},
   "outputs": [],
   "source": []
  },
  {
   "cell_type": "code",
   "execution_count": 10,
   "id": "found-release",
   "metadata": {},
   "outputs": [],
   "source": [
    "class IdealCamera:                      ### fig:camera2（1-4行目、6, 12-13行目, 26-32行目）\n",
    "    def __init__(self, env_map):\n",
    "        self.map = env_map\n",
    "        self.lastdata = []       # 追加\n",
    "        \n",
    "    def data(self, cam_pose):\n",
    "        observed = []\n",
    "        for lm in self.map.landmarks:\n",
    "            z = self.observation_function(cam_pose, lm.pos)\n",
    "            observed.append((z, lm.id))\n",
    "            \n",
    "        self.lastdata = observed  # 追加\n",
    "        return observed   \n",
    "     \n",
    "    @classmethod\n",
    "    def observation_function(cls, cam_pose, obj_pos):\n",
    "        diff = obj_pos - cam_pose[0:2]\n",
    "        phi = math.atan2(diff[1], diff[0]) - cam_pose[2]\n",
    "        while phi >= np.pi: phi -= 2*np.pi\n",
    "        while phi < -np.pi: phi += 2*np.pi\n",
    "        return np.array( [np.hypot(*diff), phi ] ).T\n",
    "    \n",
    "    def draw(self, ax, elems, cam_pose):    # 追加 ###camera2_1\n",
    "        for lm in self.lastdata:\n",
    "            x, y, theta = cam_pose\n",
    "            distance, direction = lm[0][0], lm[0][1]\n",
    "            lx = x + distance * math.cos(direction + theta)\n",
    "            ly = y + distance * math.sin(direction + theta)\n",
    "            elems += ax.plot([x,lx], [y,ly], color=\"pink\")"
   ]
  },
  {
   "cell_type": "code",
   "execution_count": 11,
   "id": "accomplished-simulation",
   "metadata": {},
   "outputs": [],
   "source": [
    "# cam = IdealCamera(m)\n",
    "# p= cam.data(robot2.pose)\n",
    "# print(p)"
   ]
  },
  {
   "cell_type": "code",
   "execution_count": 12,
   "id": "still-balance",
   "metadata": {},
   "outputs": [
    {
     "ename": "TypeError",
     "evalue": "cannot unpack non-iterable numpy.float64 object",
     "output_type": "error",
     "traceback": [
      "\u001b[0;31m---------------------------------------------------------------------------\u001b[0m",
      "\u001b[0;31mTypeError\u001b[0m                                 Traceback (most recent call last)",
      "\u001b[0;32m<ipython-input-12-504c24d7ac90>\u001b[0m in \u001b[0;36m<module>\u001b[0;34m\u001b[0m\n\u001b[1;32m     15\u001b[0m \u001b[0mworld\u001b[0m\u001b[0;34m.\u001b[0m\u001b[0mappend\u001b[0m\u001b[0;34m(\u001b[0m\u001b[0mrobot2\u001b[0m\u001b[0;34m)\u001b[0m\u001b[0;34m\u001b[0m\u001b[0;34m\u001b[0m\u001b[0m\n\u001b[1;32m     16\u001b[0m \u001b[0;31m# world.append(robot3)\u001b[0m\u001b[0;34m\u001b[0m\u001b[0;34m\u001b[0m\u001b[0;34m\u001b[0m\u001b[0m\n\u001b[0;32m---> 17\u001b[0;31m \u001b[0mworld\u001b[0m\u001b[0;34m.\u001b[0m\u001b[0mdraw\u001b[0m\u001b[0;34m(\u001b[0m\u001b[0;34m)\u001b[0m\u001b[0;34m\u001b[0m\u001b[0;34m\u001b[0m\u001b[0m\n\u001b[0m",
      "\u001b[0;32m<ipython-input-2-a119e3e5718c>\u001b[0m in \u001b[0;36mdraw\u001b[0;34m(self)\u001b[0m\n\u001b[1;32m     21\u001b[0m \u001b[0;34m\u001b[0m\u001b[0m\n\u001b[1;32m     22\u001b[0m         \u001b[0;32mif\u001b[0m \u001b[0mself\u001b[0m\u001b[0;34m.\u001b[0m\u001b[0mdebug\u001b[0m\u001b[0;34m:\u001b[0m\u001b[0;34m\u001b[0m\u001b[0;34m\u001b[0m\u001b[0m\n\u001b[0;32m---> 23\u001b[0;31m             \u001b[0;32mfor\u001b[0m \u001b[0mi\u001b[0m \u001b[0;32min\u001b[0m \u001b[0mrange\u001b[0m\u001b[0;34m(\u001b[0m\u001b[0mint\u001b[0m\u001b[0;34m(\u001b[0m\u001b[0mself\u001b[0m\u001b[0;34m.\u001b[0m\u001b[0mtime_span\u001b[0m\u001b[0;34m/\u001b[0m\u001b[0mself\u001b[0m\u001b[0;34m.\u001b[0m\u001b[0mtime_interval\u001b[0m\u001b[0;34m)\u001b[0m\u001b[0;34m)\u001b[0m\u001b[0;34m:\u001b[0m \u001b[0mself\u001b[0m\u001b[0;34m.\u001b[0m\u001b[0mone_step\u001b[0m\u001b[0;34m(\u001b[0m\u001b[0mi\u001b[0m\u001b[0;34m,\u001b[0m \u001b[0melems\u001b[0m\u001b[0;34m,\u001b[0m \u001b[0max\u001b[0m\u001b[0;34m)\u001b[0m\u001b[0;34m\u001b[0m\u001b[0;34m\u001b[0m\u001b[0m\n\u001b[0m\u001b[1;32m     24\u001b[0m         \u001b[0;32melse\u001b[0m\u001b[0;34m:\u001b[0m\u001b[0;34m\u001b[0m\u001b[0;34m\u001b[0m\u001b[0m\n\u001b[1;32m     25\u001b[0m             self.ani = anm.FuncAnimation(fig, self.one_step, fargs=(elems, ax),\n",
      "\u001b[0;32m<ipython-input-2-a119e3e5718c>\u001b[0m in \u001b[0;36mone_step\u001b[0;34m(self, i, elems, ax)\u001b[0m\n\u001b[1;32m     32\u001b[0m         \u001b[0melems\u001b[0m\u001b[0;34m.\u001b[0m\u001b[0mappend\u001b[0m\u001b[0;34m(\u001b[0m\u001b[0max\u001b[0m\u001b[0;34m.\u001b[0m\u001b[0mtext\u001b[0m\u001b[0;34m(\u001b[0m\u001b[0;34m-\u001b[0m\u001b[0;36m4.4\u001b[0m\u001b[0;34m,\u001b[0m \u001b[0;36m4.5\u001b[0m\u001b[0;34m,\u001b[0m \u001b[0mtime_str\u001b[0m\u001b[0;34m,\u001b[0m \u001b[0mfontsize\u001b[0m\u001b[0;34m=\u001b[0m\u001b[0;36m10\u001b[0m\u001b[0;34m)\u001b[0m\u001b[0;34m)\u001b[0m\u001b[0;34m\u001b[0m\u001b[0;34m\u001b[0m\u001b[0m\n\u001b[1;32m     33\u001b[0m         \u001b[0;32mfor\u001b[0m \u001b[0mobj\u001b[0m \u001b[0;32min\u001b[0m \u001b[0mself\u001b[0m\u001b[0;34m.\u001b[0m\u001b[0mobjects\u001b[0m\u001b[0;34m:\u001b[0m\u001b[0;34m\u001b[0m\u001b[0;34m\u001b[0m\u001b[0m\n\u001b[0;32m---> 34\u001b[0;31m             \u001b[0mobj\u001b[0m\u001b[0;34m.\u001b[0m\u001b[0mdraw\u001b[0m\u001b[0;34m(\u001b[0m\u001b[0max\u001b[0m\u001b[0;34m,\u001b[0m \u001b[0melems\u001b[0m\u001b[0;34m)\u001b[0m\u001b[0;34m\u001b[0m\u001b[0;34m\u001b[0m\u001b[0m\n\u001b[0m\u001b[1;32m     35\u001b[0m             \u001b[0;32mif\u001b[0m \u001b[0mhasattr\u001b[0m\u001b[0;34m(\u001b[0m\u001b[0mobj\u001b[0m\u001b[0;34m,\u001b[0m \u001b[0;34m\"one_step\"\u001b[0m\u001b[0;34m)\u001b[0m\u001b[0;34m:\u001b[0m \u001b[0mobj\u001b[0m\u001b[0;34m.\u001b[0m\u001b[0mone_step\u001b[0m\u001b[0;34m(\u001b[0m\u001b[0mself\u001b[0m\u001b[0;34m.\u001b[0m\u001b[0mtime_interval\u001b[0m\u001b[0;34m)\u001b[0m\u001b[0;34m\u001b[0m\u001b[0;34m\u001b[0m\u001b[0m\n",
      "\u001b[0;32m<ipython-input-5-f4bdcce0aed1>\u001b[0m in \u001b[0;36mdraw\u001b[0;34m(self, ax, elems)\u001b[0m\n\u001b[1;32m     18\u001b[0m         \u001b[0melems\u001b[0m \u001b[0;34m+=\u001b[0m \u001b[0max\u001b[0m\u001b[0;34m.\u001b[0m\u001b[0mplot\u001b[0m\u001b[0;34m(\u001b[0m\u001b[0;34m[\u001b[0m\u001b[0me\u001b[0m\u001b[0;34m[\u001b[0m\u001b[0;36m0\u001b[0m\u001b[0;34m]\u001b[0m \u001b[0;32mfor\u001b[0m \u001b[0me\u001b[0m \u001b[0;32min\u001b[0m \u001b[0mself\u001b[0m\u001b[0;34m.\u001b[0m\u001b[0mposes\u001b[0m\u001b[0;34m]\u001b[0m\u001b[0;34m,\u001b[0m \u001b[0;34m[\u001b[0m\u001b[0me\u001b[0m\u001b[0;34m[\u001b[0m\u001b[0;36m1\u001b[0m\u001b[0;34m]\u001b[0m \u001b[0;32mfor\u001b[0m \u001b[0me\u001b[0m \u001b[0;32min\u001b[0m \u001b[0mself\u001b[0m\u001b[0;34m.\u001b[0m\u001b[0mposes\u001b[0m\u001b[0;34m]\u001b[0m\u001b[0;34m,\u001b[0m \u001b[0mlinewidth\u001b[0m\u001b[0;34m=\u001b[0m\u001b[0;36m0.5\u001b[0m\u001b[0;34m,\u001b[0m \u001b[0mcolor\u001b[0m\u001b[0;34m=\u001b[0m\u001b[0;34m\"black\"\u001b[0m\u001b[0;34m)\u001b[0m\u001b[0;34m\u001b[0m\u001b[0;34m\u001b[0m\u001b[0m\n\u001b[1;32m     19\u001b[0m         \u001b[0;32mif\u001b[0m \u001b[0mself\u001b[0m\u001b[0;34m.\u001b[0m\u001b[0msensor\u001b[0m \u001b[0;32mand\u001b[0m \u001b[0mlen\u001b[0m\u001b[0;34m(\u001b[0m\u001b[0mself\u001b[0m\u001b[0;34m.\u001b[0m\u001b[0mposes\u001b[0m\u001b[0;34m)\u001b[0m \u001b[0;34m>\u001b[0m \u001b[0;36m1\u001b[0m\u001b[0;34m:\u001b[0m\u001b[0;34m\u001b[0m\u001b[0;34m\u001b[0m\u001b[0m\n\u001b[0;32m---> 20\u001b[0;31m             \u001b[0mself\u001b[0m\u001b[0;34m.\u001b[0m\u001b[0msensor\u001b[0m\u001b[0;34m.\u001b[0m\u001b[0mdraw\u001b[0m\u001b[0;34m(\u001b[0m\u001b[0max\u001b[0m\u001b[0;34m,\u001b[0m \u001b[0melems\u001b[0m\u001b[0;34m,\u001b[0m \u001b[0mself\u001b[0m\u001b[0;34m.\u001b[0m\u001b[0mpose\u001b[0m\u001b[0;34m[\u001b[0m\u001b[0;34m-\u001b[0m\u001b[0;36m2\u001b[0m\u001b[0;34m]\u001b[0m\u001b[0;34m)\u001b[0m\u001b[0;34m\u001b[0m\u001b[0;34m\u001b[0m\u001b[0m\n\u001b[0m\u001b[1;32m     21\u001b[0m \u001b[0;34m\u001b[0m\u001b[0m\n\u001b[1;32m     22\u001b[0m     \u001b[0;32mdef\u001b[0m \u001b[0mone_step\u001b[0m\u001b[0;34m(\u001b[0m\u001b[0mself\u001b[0m\u001b[0;34m,\u001b[0m \u001b[0mtime_interval\u001b[0m\u001b[0;34m)\u001b[0m\u001b[0;34m:\u001b[0m\u001b[0;34m\u001b[0m\u001b[0;34m\u001b[0m\u001b[0m\n",
      "\u001b[0;32m<ipython-input-10-ad36c717ebbe>\u001b[0m in \u001b[0;36mdraw\u001b[0;34m(self, ax, elems, cam_pose)\u001b[0m\n\u001b[1;32m     23\u001b[0m     \u001b[0;32mdef\u001b[0m \u001b[0mdraw\u001b[0m\u001b[0;34m(\u001b[0m\u001b[0mself\u001b[0m\u001b[0;34m,\u001b[0m \u001b[0max\u001b[0m\u001b[0;34m,\u001b[0m \u001b[0melems\u001b[0m\u001b[0;34m,\u001b[0m \u001b[0mcam_pose\u001b[0m\u001b[0;34m)\u001b[0m\u001b[0;34m:\u001b[0m    \u001b[0;31m# 追加 ###camera2_1\u001b[0m\u001b[0;34m\u001b[0m\u001b[0;34m\u001b[0m\u001b[0m\n\u001b[1;32m     24\u001b[0m         \u001b[0;32mfor\u001b[0m \u001b[0mlm\u001b[0m \u001b[0;32min\u001b[0m \u001b[0mself\u001b[0m\u001b[0;34m.\u001b[0m\u001b[0mlastdata\u001b[0m\u001b[0;34m:\u001b[0m\u001b[0;34m\u001b[0m\u001b[0;34m\u001b[0m\u001b[0m\n\u001b[0;32m---> 25\u001b[0;31m             \u001b[0mx\u001b[0m\u001b[0;34m,\u001b[0m \u001b[0my\u001b[0m\u001b[0;34m,\u001b[0m \u001b[0mtheta\u001b[0m \u001b[0;34m=\u001b[0m \u001b[0mcam_pose\u001b[0m\u001b[0;34m\u001b[0m\u001b[0;34m\u001b[0m\u001b[0m\n\u001b[0m\u001b[1;32m     26\u001b[0m             \u001b[0mdistance\u001b[0m\u001b[0;34m,\u001b[0m \u001b[0mdirection\u001b[0m \u001b[0;34m=\u001b[0m \u001b[0mlm\u001b[0m\u001b[0;34m[\u001b[0m\u001b[0;36m0\u001b[0m\u001b[0;34m]\u001b[0m\u001b[0;34m[\u001b[0m\u001b[0;36m0\u001b[0m\u001b[0;34m]\u001b[0m\u001b[0;34m,\u001b[0m \u001b[0mlm\u001b[0m\u001b[0;34m[\u001b[0m\u001b[0;36m0\u001b[0m\u001b[0;34m]\u001b[0m\u001b[0;34m[\u001b[0m\u001b[0;36m1\u001b[0m\u001b[0;34m]\u001b[0m\u001b[0;34m\u001b[0m\u001b[0;34m\u001b[0m\u001b[0m\n\u001b[1;32m     27\u001b[0m             \u001b[0mlx\u001b[0m \u001b[0;34m=\u001b[0m \u001b[0mx\u001b[0m \u001b[0;34m+\u001b[0m \u001b[0mdistance\u001b[0m \u001b[0;34m*\u001b[0m \u001b[0mmath\u001b[0m\u001b[0;34m.\u001b[0m\u001b[0mcos\u001b[0m\u001b[0;34m(\u001b[0m\u001b[0mdirection\u001b[0m \u001b[0;34m+\u001b[0m \u001b[0mtheta\u001b[0m\u001b[0;34m)\u001b[0m\u001b[0;34m\u001b[0m\u001b[0;34m\u001b[0m\u001b[0m\n",
      "\u001b[0;31mTypeError\u001b[0m: cannot unpack non-iterable numpy.float64 object"
     ]
    }
   ],
   "source": [
    "world = World(10, 1, debug=True)\n",
    "straight = Agent(0.2, 0.0)\n",
    "circling = Agent(0.2, 10.0/180 * math.pi)\n",
    "\n",
    "m = Map()\n",
    "m.append_landmark(Landmark(2, -2))\n",
    "m.append_landmark(Landmark(-1, -3))\n",
    "m.append_landmark(Landmark(3, 3))\n",
    "world.append(m)\n",
    "\n",
    "robot1 = IdealRobot( np.array([2, 3, math.pi/6]).T, sensor=IdealCamera(m), agent=straight )           # ロボットのインスタンス生成（色を省略）\n",
    "robot2 = IdealRobot( np.array([-2, -1, math.pi/5*6]).T, sensor=IdealCamera(m), agent=circling, color=\"red\")  # ロボットのインスタンス生成（色を指定）\n",
    "# robot3 = IdealRobot(np.array([0, 0, 0]).T, color=\"blue\")\n",
    "world.append(robot1)                                      # ロボットを登録 \n",
    "world.append(robot2)\n",
    "# world.append(robot3)\n",
    "world.draw()"
   ]
  },
  {
   "cell_type": "code",
   "execution_count": null,
   "id": "measured-ferry",
   "metadata": {},
   "outputs": [],
   "source": []
  }
 ],
 "metadata": {
  "kernelspec": {
   "display_name": "Python 3",
   "language": "python",
   "name": "python3"
  },
  "language_info": {
   "codemirror_mode": {
    "name": "ipython",
    "version": 3
   },
   "file_extension": ".py",
   "mimetype": "text/x-python",
   "name": "python",
   "nbconvert_exporter": "python",
   "pygments_lexer": "ipython3",
   "version": "3.8.2"
  }
 },
 "nbformat": 4,
 "nbformat_minor": 5
}
